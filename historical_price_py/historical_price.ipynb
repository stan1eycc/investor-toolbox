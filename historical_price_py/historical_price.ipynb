{
 "cells": [
  {
   "cell_type": "code",
   "execution_count": 14,
   "metadata": {},
   "outputs": [],
   "source": [
    "import requests\n",
    "import json\n",
    "import lxml.html as lh\n",
    "import pandas as pd\n",
    "\n",
    "from bs4 import BeautifulSoup as bs"
   ]
  },
  {
   "cell_type": "code",
   "execution_count": 22,
   "metadata": {},
   "outputs": [],
   "source": [
    "ft_url = 'http://markets.ft.com'"
   ]
  },
  {
   "cell_type": "code",
   "execution_count": 49,
   "metadata": {},
   "outputs": [],
   "source": [
    "# Quesry FT symbol by ISIN on web\n",
    "\n",
    "def query_ft_ticker( isin_ticker ):\n",
    "    \n",
    "    r = requests.get( ft_url + '/data/search', params = {'query':isin_ticker})\n",
    "    \n",
    "    if r.status_code == requests.codes.ok:\n",
    "        soup = bs(r.text, \"html.parser\")\n",
    "        tb = soup.find('table', class_='mod-ui-table mod-ui-table--freeze-pane')      \n",
    "        tr = tb.findAll('tr')\n",
    "                \n",
    "        if len(tr)!= 1:\n",
    "            return\n",
    "        \n",
    "        td = tr[0].find('td')\n",
    "        href = td.find('a').get('href')\n",
    "        name = td.text\n",
    "        \n",
    "        print(href)\n",
    "        print(name)\n",
    "        \n",
    "        td = td.find_next_sibling()\n",
    "        symbol = td.text\n",
    "        print(symbol)\n",
    "    \n",
    "        r = requests.get( ft_url + href )\n",
    "        if r.status_code == requests.codes.ok:\n",
    "            soup = bs(r.text, \"html.parser\")\n",
    "            k = soup.find('section', class_='mod-tearsheet-add-to-portfolio')\n",
    "            js = json.loads(str(k.get('data-mod-config')))\n",
    "            \n",
    "            xid = js['xid']\n",
    "            print(xid)\n",
    "    \n",
    "            return xid\n",
    "    return"
   ]
  },
  {
   "cell_type": "code",
   "execution_count": 19,
   "metadata": {},
   "outputs": [],
   "source": [
    "# Get Fund historical prices from markets.ft.com\n",
    "\n",
    "def get_historical_prices( isin_ticker, fromDate='2018/01/01', toDate='2018/11/27' ):   \n",
    "    \n",
    "    q_params = {'startDate': fromDate,\n",
    "                'endDate': toDate,\n",
    "                'symbol': query_ft_ticker(isin_ticker)}\n",
    "\n",
    "    # Download the result from website\n",
    "    r = requests.get( ft_url + '/data/equities/ajax/get-historical-prices', params = q_params)\n",
    "   \n",
    "    # Check if it is ok\n",
    "    if r.status_code == requests.codes.ok:\n",
    "\n",
    "        # Prepare table and headers\n",
    "        headers = [\"Date\", \"Open\", \"High\", \"Low\", \"Close\", \"Volume\"]\n",
    "        col = []\n",
    "        for h in headers:\n",
    "            col.append((h,[]))\n",
    "\n",
    "        #Store the contents of the website under doc\n",
    "        doc = lh.fromstring(r.json()['html'])\n",
    "    \n",
    "        #Parse data that are stored between <tr>..</tr> of HTML\n",
    "        tr_elements = doc.xpath('//tr')\n",
    "    \n",
    "        #Since out first row is the header, data is stored on the second row onwards\n",
    "        for e in tr_elements:\n",
    "    \n",
    "            #If row is not of size 6, the //tr data is not from our table \n",
    "            if len(e)!=6:\n",
    "                break\n",
    "    \n",
    "            #i is the index of our column\n",
    "            i=0\n",
    "    \n",
    "            #Iterate through each element of the row\n",
    "            for t in e.iterchildren():\n",
    "         \n",
    "                if i==0:\n",
    "                    data=t[1].text_content()\n",
    "                else:\n",
    "                    data=t.text_content() \n",
    "                \n",
    "                #Append the data to the empty list of the i'th column\n",
    "                col[i][1].append(data)\n",
    "        \n",
    "                #Increment i for the next column\n",
    "                i+=1\n",
    "\n",
    "        return {title:column for (title,column) in col}   \n"
   ]
  },
  {
   "cell_type": "code",
   "execution_count": 47,
   "metadata": {},
   "outputs": [
    {
     "name": "stdout",
     "output_type": "stream",
     "text": [
      "/data/funds/tearsheet/summary?s=LU0441901922:USD\n",
      "Templeton Emerging Markets Bond Fund A(Mdis)USD\n",
      "LU0441901922:USD\n",
      "28272251\n"
     ]
    }
   ],
   "source": [
    "df = pd.DataFrame(get_historical_prices('LU0441901922',fromDate='2017/01/01',toDate='2017/12/31'))\n",
    "\n",
    "df['Date'] = pd.to_datetime(df['Date'])\n",
    "df['Open'] = pd.to_numeric(df['Open'])\n",
    "df['High'] = pd.to_numeric(df['High'])\n",
    "df['Low'] = pd.to_numeric(df['Low'])\n",
    "df['Close'] = pd.to_numeric(df['Close'])"
   ]
  },
  {
   "cell_type": "code",
   "execution_count": 48,
   "metadata": {},
   "outputs": [
    {
     "data": {
      "text/plain": [
       "<matplotlib.axes._subplots.AxesSubplot at 0x7f7e4861df60>"
      ]
     },
     "execution_count": 48,
     "metadata": {},
     "output_type": "execute_result"
    },
    {
     "data": {
      "image/png": "[encoded data removed]",
      "text/plain": [
       "<Figure size 432x288 with 1 Axes>"
      ]
     },
     "metadata": {
      "needs_background": "light"
     },
     "output_type": "display_data"
    }
   ],
   "source": [
    "df.plot(x='Date',y='Close')"
   ]
  }
 ],
 "metadata": {
  "kernelspec": {
   "display_name": "Python 3",
   "language": "python",
   "name": "python3"
  },
  "language_info": {
   "codemirror_mode": {
    "name": "ipython",
    "version": 3
   },
   "file_extension": ".py",
   "mimetype": "text/x-python",
   "name": "python",
   "nbconvert_exporter": "python",
   "pygments_lexer": "ipython3",
   "version": "3.7.0"
  }
 },
 "nbformat": 4,
 "nbformat_minor": 2
}
