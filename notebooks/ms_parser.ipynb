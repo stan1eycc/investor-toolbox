{
 "cells": [
  {
   "cell_type": "code",
   "execution_count": 1,
   "metadata": {},
   "outputs": [],
   "source": [
    "from bs4 import BeautifulSoup as bs"
   ]
  },
  {
   "cell_type": "code",
   "execution_count": null,
   "metadata": {},
   "outputs": [],
   "source": [
    "def read_ms_portfolio(file_name):\n",
    "    url = '../examples/20210506_CS_Transactions'  \n",
    "    \n",
    "    if r.status_code == requests.codes.ok:  \n",
    "      \n",
    "        soup = bs(r.text, 'html.parser')\n",
    "        items = soup.select('div.g')\n",
    "        \n",
    "        if len(items) < 1:\n",
    "            return -1\n",
    "        \n",
    "        for item in items:\n",
    "            s = item.find('a').get('href')\n",
    "            link = urllib.parse.parse_qs(urlparse(s)[4])['q'][0]            \n",
    "            parsed_link = urlparse(link)\n",
    "            \n",
    "            if key_url in parsed_link[2]:\n",
    "                s = item.find('span', class_='st').text\n",
    "                i = s.find(\"Bloomberg Code,\")\n",
    "                \n",
    "                return s[i+16:i+23] + ':' + s[i+24:i+26]\n",
    "            \n",
    "    return -1"
   ]
  },
  {
   "cell_type": "code",
   "execution_count": 9,
   "metadata": {},
   "outputs": [
    {
     "name": "stdout",
     "output_type": "stream",
     "text": [
      "<thead class=\"\" style=\"top: 14852px;\">\n",
      "<tr>\n",
      "<th class=\"mtp-grid-btn-collapse-th mtp-expcollp\"><a class=\"btn-collapse-dwn\" collapse=\"true\" data-bind=\"attr:{collapse:isCollapsedForAll},click: changeCollapseStatus\" href=\"#\" id=\"btn_collapse\" title=\"Expand all\"></a><!-- btn-collapse-dwn --></th>\n",
      "<th class=\"mtp-ticker\">Ticker</th>\n",
      "<th class=\"mtp-name\">Name</th>\n",
      "<th class=\"mtp-shares aright\">Shares</th>\n",
      "<th class=\"mtp-shrpr aright\">Share Price $</th>\n",
      "<th class=\"mtp-amt aright\">Amount $</th>\n",
      "<th class=\"mtp-buttons\"> </th>\n",
      "</tr>\n",
      "</thead>\n"
     ]
    }
   ],
   "source": [
    "import os\n",
    "\n",
    "url = '../examples/20210506_CS_Transactions'  \n",
    "\n",
    "with open(url) as fp:\n",
    "    soup = bs(fp, 'html.parser')\n",
    "    print(soup.thead)"
   ]
  }
 ],
 "metadata": {
  "kernelspec": {
   "display_name": "Python 3",
   "language": "python",
   "name": "python3"
  },
  "language_info": {
   "codemirror_mode": {
    "name": "ipython",
    "version": 3
   },
   "file_extension": ".py",
   "mimetype": "text/x-python",
   "name": "python",
   "nbconvert_exporter": "python",
   "pygments_lexer": "ipython3",
   "version": "3.8.5"
  }
 },
 "nbformat": 4,
 "nbformat_minor": 4
}
