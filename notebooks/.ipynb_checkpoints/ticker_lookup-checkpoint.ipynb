{
 "cells": [
  {
   "cell_type": "code",
   "execution_count": 1,
   "metadata": {},
   "outputs": [],
   "source": [
    "import requests\n",
    "import urllib\n",
    "\n",
    "from bs4 import BeautifulSoup as bs"
   ]
  },
  {
   "cell_type": "code",
   "execution_count": 8,
   "metadata": {},
   "outputs": [],
   "source": [
    "# Convert ISIN to Bloomberg ticker from Google\n",
    "def isin2bbg(isin_ticker):\n",
    "    url = 'https://www.google.com.tw/search'  \n",
    "    keys = '+fundinfo+bloomberg'\n",
    "    key_url = 'product'\n",
    "        \n",
    "    # Search on Google\n",
    "    r = requests.get( url, params = {'q': isin_ticker + keys } )\n",
    "    print(r.url)\n",
    "    \n",
    "    if r.status_code == requests.codes.ok:  \n",
    "      \n",
    "        soup = bs(r.text, 'html.parser')\n",
    "        items = soup.select('div.g')\n",
    "        \n",
    "        if len(items) < 1:\n",
    "            return -1\n",
    "        \n",
    "        for item in items:\n",
    "            s = item.find('a').get('href')\n",
    "            link = urllib.parse.parse_qs(urlparse(s)[4])['q'][0]            \n",
    "            parsed_link = urlparse(link)\n",
    "            \n",
    "            if key_url in parsed_link[2]:\n",
    "                s = item.find('span', class_='st').text\n",
    "                i = s.find(\"Bloomberg Code,\")\n",
    "                \n",
    "                return s[i+16:i+23] + ':' + s[i+24:i+26]\n",
    "            \n",
    "    return -1"
   ]
  },
  {
   "cell_type": "code",
   "execution_count": 3,
   "metadata": {},
   "outputs": [],
   "source": [
    "# Convert ISIN to Morningstar ticker\n",
    "\n",
    "def isin2morningstar(isin_ticker):\n",
    "    url = 'https://www.google.com.tw/search'  \n",
    "    keys = '+morningstar'\n",
    "        \n",
    "    # Search on Google\n",
    "    r = requests.get( url, params = {'q': isin_ticker + keys } )\n",
    "    #print(r.url)\n",
    "    \n",
    "    if r.status_code == requests.codes.ok:  \n",
    "          \n",
    "        soup = bs(r.text, 'html.parser')\n",
    "\n",
    "        items = soup.select('div.g > h3.r > a')\n",
    "        \n",
    "        if len(items) > 0:\n",
    "            #print(items[0])\n",
    "            s = items[0].get('href')\n",
    "            ms_link = urllib.parse.parse_qs(urlparse(s)[4])['q'][0]\n",
    "            \n",
    "            parsed_link = urlparse(ms_link)\n",
    "            \n",
    "            if 'morningstar' not in parsed_link[1]:\n",
    "                return -1\n",
    "            else:                \n",
    "                return urllib.parse.parse_qs(urlparse(ms_link)[4])['id'][0]\n",
    "                        \n",
    "    return -1"
   ]
  },
  {
   "cell_type": "code",
   "execution_count": 4,
   "metadata": {},
   "outputs": [],
   "source": [
    "# Convert Bloomberg to ISIN from Google\n",
    "def bbg2isin(bbg_ticker):\n",
    "    url = 'https://www.google.com.tw/search'  \n",
    "    keys = '+fundinfo+isin'\n",
    "    key_url = 'product'\n",
    "        \n",
    "    # Search on Google\n",
    "    r = requests.get( url, params = {'q': bbg_ticker + keys } )\n",
    "    #print(r.url)\n",
    "    \n",
    "    if r.status_code == requests.codes.ok:\n",
    "        \n",
    "        soup = bs(r.text, 'html.parser')\n",
    "        items = soup.select('div.g')\n",
    "        \n",
    "        if len(items) < 1:\n",
    "            return -1\n",
    "        \n",
    "        for item in items:\n",
    "            s = item.find('a').get('href')\n",
    "            link = urllib.parse.parse_qs(urlparse(s)[4])['q'][0]\n",
    "            parsed_link = urlparse(link)\n",
    "            \n",
    "            if key_url in parsed_link[2]:\n",
    "                s = item.find('span', class_='st').text\n",
    "                i = s.find(\"ISIN,\")                \n",
    "                \n",
    "                return s[i+6:i+18]\n",
    "    return -1"
   ]
  },
  {
   "cell_type": "code",
   "execution_count": 5,
   "metadata": {},
   "outputs": [],
   "source": [
    "def bbg2morningstar(bbg_ticker):\n",
    "    return isin2morningstar(bbg2isin(bbg_ticker))"
   ]
  },
  {
   "cell_type": "code",
   "execution_count": 6,
   "metadata": {},
   "outputs": [
    {
     "name": "stdout",
     "output_type": "stream",
     "text": [
      "-1\n",
      "-1\n"
     ]
    },
    {
     "ename": "TypeError",
     "evalue": "unsupported operand type(s) for +: 'int' and 'str'",
     "output_type": "error",
     "traceback": [
      "\u001b[0;31m---------------------------------------------------------------------------\u001b[0m",
      "\u001b[0;31mTypeError\u001b[0m                                 Traceback (most recent call last)",
      "\u001b[0;32m<ipython-input-6-944a44c8a462>\u001b[0m in \u001b[0;36m<module>\u001b[0;34m\u001b[0m\n\u001b[1;32m      1\u001b[0m \u001b[0mprint\u001b[0m\u001b[0;34m(\u001b[0m\u001b[0mbbg2isin\u001b[0m\u001b[0;34m(\u001b[0m\u001b[0;34m'FAPPAUI:LX'\u001b[0m\u001b[0;34m)\u001b[0m\u001b[0;34m)\u001b[0m\u001b[0;34m\u001b[0m\u001b[0;34m\u001b[0m\u001b[0m\n\u001b[1;32m      2\u001b[0m \u001b[0mprint\u001b[0m\u001b[0;34m(\u001b[0m\u001b[0misin2bbg\u001b[0m\u001b[0;34m(\u001b[0m\u001b[0;34m'LU0270844359'\u001b[0m\u001b[0;34m)\u001b[0m\u001b[0;34m)\u001b[0m\u001b[0;34m\u001b[0m\u001b[0;34m\u001b[0m\u001b[0m\n\u001b[0;32m----> 3\u001b[0;31m \u001b[0mprint\u001b[0m\u001b[0;34m(\u001b[0m\u001b[0mbbg2morningstar\u001b[0m\u001b[0;34m(\u001b[0m\u001b[0;34m'FAPPAUI:LX'\u001b[0m\u001b[0;34m)\u001b[0m\u001b[0;34m)\u001b[0m\u001b[0;34m\u001b[0m\u001b[0;34m\u001b[0m\u001b[0m\n\u001b[0m",
      "\u001b[0;32m<ipython-input-5-28b4e21c68ac>\u001b[0m in \u001b[0;36mbbg2morningstar\u001b[0;34m(bbg_ticker)\u001b[0m\n\u001b[1;32m      1\u001b[0m \u001b[0;32mdef\u001b[0m \u001b[0mbbg2morningstar\u001b[0m\u001b[0;34m(\u001b[0m\u001b[0mbbg_ticker\u001b[0m\u001b[0;34m)\u001b[0m\u001b[0;34m:\u001b[0m\u001b[0;34m\u001b[0m\u001b[0;34m\u001b[0m\u001b[0m\n\u001b[0;32m----> 2\u001b[0;31m     \u001b[0;32mreturn\u001b[0m \u001b[0misin2morningstar\u001b[0m\u001b[0;34m(\u001b[0m\u001b[0mbbg2isin\u001b[0m\u001b[0;34m(\u001b[0m\u001b[0mbbg_ticker\u001b[0m\u001b[0;34m)\u001b[0m\u001b[0;34m)\u001b[0m\u001b[0;34m\u001b[0m\u001b[0;34m\u001b[0m\u001b[0m\n\u001b[0m",
      "\u001b[0;32m<ipython-input-3-fd87b872b01b>\u001b[0m in \u001b[0;36misin2morningstar\u001b[0;34m(isin_ticker)\u001b[0m\n\u001b[1;32m      6\u001b[0m \u001b[0;34m\u001b[0m\u001b[0m\n\u001b[1;32m      7\u001b[0m     \u001b[0;31m# Search on Google\u001b[0m\u001b[0;34m\u001b[0m\u001b[0;34m\u001b[0m\u001b[0;34m\u001b[0m\u001b[0m\n\u001b[0;32m----> 8\u001b[0;31m     \u001b[0mr\u001b[0m \u001b[0;34m=\u001b[0m \u001b[0mrequests\u001b[0m\u001b[0;34m.\u001b[0m\u001b[0mget\u001b[0m\u001b[0;34m(\u001b[0m \u001b[0murl\u001b[0m\u001b[0;34m,\u001b[0m \u001b[0mparams\u001b[0m \u001b[0;34m=\u001b[0m \u001b[0;34m{\u001b[0m\u001b[0;34m'q'\u001b[0m\u001b[0;34m:\u001b[0m \u001b[0misin_ticker\u001b[0m \u001b[0;34m+\u001b[0m \u001b[0mkeys\u001b[0m \u001b[0;34m}\u001b[0m \u001b[0;34m)\u001b[0m\u001b[0;34m\u001b[0m\u001b[0;34m\u001b[0m\u001b[0m\n\u001b[0m\u001b[1;32m      9\u001b[0m     \u001b[0;31m#print(r.url)\u001b[0m\u001b[0;34m\u001b[0m\u001b[0;34m\u001b[0m\u001b[0;34m\u001b[0m\u001b[0m\n\u001b[1;32m     10\u001b[0m \u001b[0;34m\u001b[0m\u001b[0m\n",
      "\u001b[0;31mTypeError\u001b[0m: unsupported operand type(s) for +: 'int' and 'str'"
     ]
    }
   ],
   "source": [
    "print(bbg2isin('FAPPAUI:LX'))\n",
    "print(isin2bbg('LU0270844359'))\n",
    "print(bbg2morningstar('FAPPAUI:LX'))"
   ]
  },
  {
   "cell_type": "code",
   "execution_count": 9,
   "metadata": {},
   "outputs": [
    {
     "data": {
      "text/plain": [
       "-1"
      ]
     },
     "execution_count": 9,
     "metadata": {},
     "output_type": "execute_result"
    }
   ],
   "source": [
    "bbg2isin('FAPPAUI:LX')"
   ]
  }
 ],
 "metadata": {
  "kernelspec": {
   "display_name": "Python 3",
   "language": "python",
   "name": "python3"
  },
  "language_info": {
   "codemirror_mode": {
    "name": "ipython",
    "version": 3
   },
   "file_extension": ".py",
   "mimetype": "text/x-python",
   "name": "python",
   "nbconvert_exporter": "python",
   "pygments_lexer": "ipython3",
   "version": "3.8.5"
  }
 },
 "nbformat": 4,
 "nbformat_minor": 2
}
