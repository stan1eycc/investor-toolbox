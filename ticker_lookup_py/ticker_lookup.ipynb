{
 "cells": [
  {
   "cell_type": "code",
   "execution_count": 1,
   "metadata": {},
   "outputs": [],
   "source": [
    "import requests\n",
    "import json\n",
    "import lxml.html as lh\n",
    "import pandas as pd\n",
    "\n",
    "from bs4 import BeautifulSoup as bs"
   ]
  },
  {
   "cell_type": "code",
   "execution_count": 7,
   "metadata": {},
   "outputs": [],
   "source": [
    "url = 'https://www.fundinfo.com/en/product/IE00B11XZ210'"
   ]
  },
  {
   "cell_type": "code",
   "execution_count": 55,
   "metadata": {},
   "outputs": [
    {
     "name": "stdout",
     "output_type": "stream",
     "text": [
      "LEMMABU\n",
      "LE\n",
      "LEMMABU:LE\n"
     ]
    }
   ],
   "source": [
    "google_url = 'https://www.google.com.tw/search'\n",
    "\n",
    "isin_ticker = 'LI0133634670'\n",
    "\n",
    "# 查詢參數\n",
    "my_params = {'q': isin_ticker + '+fundinfo+bloomberg' }\n",
    "\n",
    "# 下載 Google 搜尋結果\n",
    "r = requests.get(google_url, params = my_params)\n",
    "\n",
    "# 確認是否下載成功\n",
    "if r.status_code == requests.codes.ok:\n",
    "  # 以 BeautifulSoup 解析 HTML 原始碼\n",
    "  soup = bs(r.text, 'html.parser')\n",
    "\n",
    "  # 觀察 HTML 原始碼\n",
    "  #print(soup.prettify())\n",
    "\n",
    "  # 以 CSS 的選擇器來抓取 Google 的搜尋結果\n",
    "  #items = soup.select('div.g > h3.r > a[href^=\"/url\"]')\n",
    "  items = soup.select('div.g')\n",
    "  s = items[0].find('span', class_='st').text\n",
    "    \n",
    "  i = s.find(\"Bloomberg Code,\")\n",
    "  print(s[i+16:i+16+7])\n",
    "  print(s[i+16+8:i+16+10])\n",
    "  \n",
    "  print( s[i+16:i+23] + ':' + s[i+24:i+26])\n",
    "  \n",
    "    \n",
    "\n",
    "\n",
    "    #print(\"標題：\" + i.text)\n",
    "    # 網址\n",
    "    #print(\"網址：\" + i.get('href'))\n"
   ]
  }
 ],
 "metadata": {
  "kernelspec": {
   "display_name": "Python 3",
   "language": "python",
   "name": "python3"
  },
  "language_info": {
   "codemirror_mode": {
    "name": "ipython",
    "version": 3
   },
   "file_extension": ".py",
   "mimetype": "text/x-python",
   "name": "python",
   "nbconvert_exporter": "python",
   "pygments_lexer": "ipython3",
   "version": "3.7.0"
  }
 },
 "nbformat": 4,
 "nbformat_minor": 2
}
