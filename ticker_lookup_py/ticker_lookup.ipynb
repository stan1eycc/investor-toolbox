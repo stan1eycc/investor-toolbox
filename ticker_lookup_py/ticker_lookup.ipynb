{
 "cells": [
  {
   "cell_type": "code",
   "execution_count": 12,
   "metadata": {},
   "outputs": [],
   "source": [
    "import requests\n",
    "import urllib\n",
    "\n",
    "from bs4 import BeautifulSoup as bs"
   ]
  },
  {
   "cell_type": "code",
   "execution_count": 20,
   "metadata": {},
   "outputs": [],
   "source": [
    "# Convert ISIN to Bloomberg ticker from Google\n",
    "def isin2bbg(isin_ticker):\n",
    "    url = 'https://www.google.com.tw/search'  \n",
    "    keys = '+fundinfo+bloomberg'\n",
    "    key_url = 'product'\n",
    "        \n",
    "    # Search on Google\n",
    "    r = requests.get( url, params = {'q': isin_ticker + keys } )\n",
    "    #print(r.url)\n",
    "    \n",
    "    if r.status_code == requests.codes.ok:  \n",
    "      \n",
    "        soup = bs(r.text, 'html.parser')\n",
    "        items = soup.select('div.g')\n",
    "        \n",
    "        if len(items) < 1:\n",
    "            return -1\n",
    "        \n",
    "        for item in items:\n",
    "            s = item.find('a').get('href')\n",
    "            link = urllib.parse.parse_qs(urlparse(s)[4])['q'][0]            \n",
    "            parsed_link = urlparse(link)\n",
    "            \n",
    "            if key_url in parsed_link[2]:\n",
    "                s = item.find('span', class_='st').text\n",
    "                i = s.find(\"Bloomberg Code,\")\n",
    "                \n",
    "                return s[i+16:i+23] + ':' + s[i+24:i+26]\n",
    "            \n",
    "    return -1"
   ]
  },
  {
   "cell_type": "code",
   "execution_count": 14,
   "metadata": {},
   "outputs": [],
   "source": [
    "# Convert ISIN to Morningstar ticker\n",
    "\n",
    "def isin2morningstar(isin_ticker):\n",
    "    url = 'https://www.google.com.tw/search'  \n",
    "    keys = '+morningstar'\n",
    "        \n",
    "    # Search on Google\n",
    "    r = requests.get( url, params = {'q': isin_ticker + keys } )\n",
    "    #print(r.url)\n",
    "    \n",
    "    if r.status_code == requests.codes.ok:  \n",
    "          \n",
    "        soup = bs(r.text, 'html.parser')\n",
    "\n",
    "        items = soup.select('div.g > h3.r > a')\n",
    "        \n",
    "        if len(items) > 0:\n",
    "            #print(items[0])\n",
    "            s = items[0].get('href')\n",
    "            ms_link = urllib.parse.parse_qs(urlparse(s)[4])['q'][0]\n",
    "            \n",
    "            parsed_link = urlparse(ms_link)\n",
    "            \n",
    "            if 'morningstar' not in parsed_link[1]:\n",
    "                return -1\n",
    "            else:                \n",
    "                return urllib.parse.parse_qs(urlparse(ms_link)[4])['id'][0]\n",
    "                        \n",
    "    return -1"
   ]
  },
  {
   "cell_type": "code",
   "execution_count": 18,
   "metadata": {},
   "outputs": [],
   "source": [
    "# Convert Bloomberg to ISIN from Google\n",
    "def bbg2isin(bbg_ticker):\n",
    "    url = 'https://www.google.com.tw/search'  \n",
    "    keys = '+fundinfo+isin'\n",
    "    key_url = 'product'\n",
    "        \n",
    "    # Search on Google\n",
    "    r = requests.get( url, params = {'q': bbg_ticker + keys } )\n",
    "    #print(r.url)\n",
    "    \n",
    "    if r.status_code == requests.codes.ok:\n",
    "        \n",
    "        soup = bs(r.text, 'html.parser')\n",
    "        items = soup.select('div.g')\n",
    "        \n",
    "        if len(items) < 1:\n",
    "            return -1\n",
    "        \n",
    "        for item in items:\n",
    "            s = item.find('a').get('href')\n",
    "            link = urllib.parse.parse_qs(urlparse(s)[4])['q'][0]\n",
    "            parsed_link = urlparse(link)\n",
    "            \n",
    "            if key_url in parsed_link[2]:\n",
    "                s = item.find('span', class_='st').text\n",
    "                i = s.find(\"ISIN,\")                \n",
    "                \n",
    "                return s[i+6:i+18]\n",
    "    return -1"
   ]
  },
  {
   "cell_type": "code",
   "execution_count": 16,
   "metadata": {},
   "outputs": [],
   "source": [
    "def bbg2morningstar(bbg_ticker):\n",
    "    return isin2morningstar(bbg2isin(bbg_ticker))"
   ]
  },
  {
   "cell_type": "code",
   "execution_count": 21,
   "metadata": {},
   "outputs": [
    {
     "name": "stdout",
     "output_type": "stream",
     "text": [
      "LU0270844359\n",
      "FAPPAUI:LX\n",
      "F0000003LF\n"
     ]
    }
   ],
   "source": [
    "print(bbg2isin('FAPPAUI:LX'))\n",
    "print(isin2bbg('LU0270844359'))\n",
    "print(bbg2morningstar('FAPPAUI:LX'))"
   ]
  }
 ],
 "metadata": {
  "kernelspec": {
   "display_name": "Python 3",
   "language": "python",
   "name": "python3"
  },
  "language_info": {
   "codemirror_mode": {
    "name": "ipython",
    "version": 3
   },
   "file_extension": ".py",
   "mimetype": "text/x-python",
   "name": "python",
   "nbconvert_exporter": "python",
   "pygments_lexer": "ipython3",
   "version": "3.7.0"
  }
 },
 "nbformat": 4,
 "nbformat_minor": 2
}
